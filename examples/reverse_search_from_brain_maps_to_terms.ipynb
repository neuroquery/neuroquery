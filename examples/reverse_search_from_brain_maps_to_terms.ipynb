{
  "cells": [
    {
      "cell_type": "code",
      "execution_count": null,
      "metadata": {
        "collapsed": false
      },
      "outputs": [],
      "source": [
        "%matplotlib inline"
      ]
    },
    {
      "cell_type": "markdown",
      "metadata": {},
      "source": [
        "\n# Advanced example: querying the literature with brain maps\n\nIn this example, instead of providing a text query to find related brain\nregions, we provide a brain map and discover which terms or studies in the\nliterature are associated with similar activation patterns.\n"
      ]
    },
    {
      "cell_type": "code",
      "execution_count": null,
      "metadata": {
        "collapsed": false
      },
      "outputs": [],
      "source": [
        "import pathlib\n\nimport numpy as np\nimport pandas as pd\nfrom joblib import Memory\nfrom matplotlib import pyplot as plt\n\nfrom nilearn import plotting\nfrom nilearn.datasets import fetch_localizer_contrasts\n\nfrom neuroquery import datasets\nfrom neuroquery.img_utils import coordinates_to_maps, gaussian_coord_smoothing\nfrom neuroquery.encoding import NeuroQueryModel"
      ]
    },
    {
      "cell_type": "markdown",
      "metadata": {},
      "source": [
        "# Finding terms with similar activations\n\n"
      ]
    },
    {
      "cell_type": "markdown",
      "metadata": {},
      "source": [
        "## Load model and compute maps for all terms\nWe cache the computed maps to save time when running this script again\n\n"
      ]
    },
    {
      "cell_type": "code",
      "execution_count": null,
      "metadata": {
        "collapsed": false
      },
      "outputs": [],
      "source": [
        "# You can set the cache directory to a different location\ncache_directory = pathlib.Path(\"cache\")\ncache_directory.mkdir(parents=True, exist_ok=True)\nmaps_file = cache_directory / \"masked_term_maps.npy\"\n\nencoder = NeuroQueryModel.from_data_dir(datasets.fetch_neuroquery_model())\nvoc = np.asarray(encoder.full_vocabulary())\nif maps_file.is_file():\n    term_maps = np.load(str(maps_file))\nelse:\n    print(\"Computing brain maps for all terms in the vocabulary...\")\n    term_maps = encoder.get_masker().transform(\n        encoder.transform(voc[:, None])[\"brain_map\"]\n    )\n    print(\"Done\")\n    np.save(str(maps_file), term_maps)"
      ]
    },
    {
      "cell_type": "markdown",
      "metadata": {},
      "source": [
        "## Obtain some example brain maps\nWe load example subject-level tmaps from a localizer dataset, and also\ngenerate a brain maps from a set of MNI coordinates.\n\n"
      ]
    },
    {
      "cell_type": "code",
      "execution_count": null,
      "metadata": {
        "collapsed": false
      },
      "outputs": [],
      "source": [
        "queries = {}\n\ncontrasts = [\"left vs right button press\", \"sentence listening\"]\n\nfor contrast in contrasts:\n    query_map = fetch_localizer_contrasts(\n        [contrast], n_subjects=1, get_tmaps=True\n    )[\"tmaps\"][0]\n    queries[contrast] = query_map\n\ndmn_coords = [(0, -52, 18), (-46, -68, 32), (46, -68, 32), (1, 50, -5)]\ndmn_img = gaussian_coord_smoothing(dmn_coords, encoder.get_masker())\nmasked_dmn = encoder.get_masker().transform(dmn_img).ravel()\nqueries[\"DMN coordinates\"] = dmn_img"
      ]
    },
    {
      "cell_type": "markdown",
      "metadata": {},
      "source": [
        "## Discover which terms have activations similar to the query map\nHere we simply use the dot product with the absolute values of the input map\n\n"
      ]
    },
    {
      "cell_type": "code",
      "execution_count": null,
      "metadata": {
        "collapsed": false
      },
      "outputs": [],
      "source": [
        "for name, query_map in queries.items():\n    masked_query = encoder.get_masker().transform(query_map).ravel()\n    similarities = np.abs(masked_query).dot(term_maps.T)\n    # rescale by document frequencies, optional\n    similarities *= np.log(1 + encoder.document_frequencies().values.ravel())\n    top_20 = np.argsort(similarities)[::-1][:20]\n    top_terms = voc[top_20].ravel()\n\n    fig, (map_ax, text_ax) = plt.subplots(\n        2, 1, gridspec_kw={\"height_ratios\": [1.0, 0.5]}\n    )\n    text = \", \".join(list(top_terms))\n    plotting.plot_stat_map(query_map, axes=map_ax, threshold=\"auto\")\n    fig.suptitle(\"Query map: {}\".format(name))\n    text_ax.set_title(\"terms with similar maps:\")\n    text_ax.text(0, 0.9, text, va=\"top\", ha=\"left\", wrap=True, fontsize=12)\n    text_ax.set_axis_off()\n\nplt.show()"
      ]
    },
    {
      "cell_type": "markdown",
      "metadata": {},
      "source": [
        "# Finding studies with similar activations\n\n"
      ]
    },
    {
      "cell_type": "markdown",
      "metadata": {},
      "source": [
        "## Transform the coordinates into brain maps\nHere we generate brain maps for all the studies in the NeuroQuery dataset,\nusing the activation coordinates. This takes a long time(around 15mn) so we\ncache the result.\n\n"
      ]
    },
    {
      "cell_type": "code",
      "execution_count": null,
      "metadata": {
        "collapsed": false
      },
      "outputs": [],
      "source": [
        "corpus_metadata = encoder.corpus_info[\"metadata\"].set_index(\"pmid\")\ncoordinates = pd.read_csv(datasets.fetch_peak_coordinates())\n\n# We cache the `coordinates_to_maps` function with joblib to avoid recomputing\n# this if we train a new model.\ncoord_to_maps = Memory(str(cache_directory)).cache(coordinates_to_maps)\n\n# You can set target_affine to a different value to increase image resolution\n# or reduce computation time. The model on neuroquery.org uses 4 mm\n# resolution i.e. target_affine=(4, 4, 4)\n# You can also adjust the smoothing by setting `fwhm` (Full Width at Half\n# maximum)\nbrain_maps, masker = coord_to_maps(\n    coordinates, target_affine=(6, 6, 6), fwhm=9.0\n)\nbrain_maps = brain_maps[(brain_maps.values != 0).any(axis=1)]\nbrain_maps /= np.sum(brain_maps.values, axis=1, keepdims=True)"
      ]
    },
    {
      "cell_type": "markdown",
      "metadata": {},
      "source": [
        "## Find studies with activations similar to the input maps\n\n"
      ]
    },
    {
      "cell_type": "code",
      "execution_count": null,
      "metadata": {
        "collapsed": false
      },
      "outputs": [],
      "source": [
        "for name, query_map in queries.items():\n    masked_query = masker.transform(query_map).ravel()\n    similarities = np.abs(masked_query).dot(brain_maps.values.T)\n    top_studies = np.argsort(similarities)[::-1][:10]\n    pmids = brain_maps.index.values[top_studies]\n    pmids = [pmid for pmid in pmids if pmid in corpus_metadata.index]\n    top_studies_info = corpus_metadata.loc[pmids, [\"title\"]]\n    print(\n        \"\\n\\nMost similar studies to the brain map\"\n        \" for {}:\\n{:=<80}\".format(name, \"\")\n    )\n    for pmid, title in top_studies_info.reset_index().values:\n        print(pmid, title)"
      ]
    }
  ],
  "metadata": {
    "kernelspec": {
      "display_name": "Python 3",
      "language": "python",
      "name": "python3"
    },
    "language_info": {
      "codemirror_mode": {
        "name": "ipython",
        "version": 3
      },
      "file_extension": ".py",
      "mimetype": "text/x-python",
      "name": "python",
      "nbconvert_exporter": "python",
      "pygments_lexer": "ipython3",
      "version": "3.8.10"
    }
  },
  "nbformat": 4,
  "nbformat_minor": 0
}